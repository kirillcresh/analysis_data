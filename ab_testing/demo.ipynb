{
 "cells": [
  {
   "cell_type": "code",
   "execution_count": null,
   "metadata": {},
   "outputs": [],
   "source": []
  },
  {
   "cell_type": "markdown",
   "metadata": {},
   "source": [
    "Данные\n",
    "\n",
    "Игра содержит особое событие – ивент, для прохождения которого пользователи могут тратить деньги. Группа дизайнеров решила поменять вид окошка покупки ивентовых продуктов. Чтобы оценить результат нововведения, провели АБ тест, разделив пользователей на две группы: контрольную и тестовую (с окошком нового типа).\n",
    "\n",
    "Задача\n",
    "Исследовать какая из АБ групп лучше себя показала. Результаты предоставить в понятной для широкой аудитории форме, сопроводив по необходимости графиками/дашбордами/числами. Колонки\n",
    "\n",
    "AbGroup – имя АБ группы: Control/Test\n",
    "user_id – id пользователя\n",
    "time_stamp – день события\n",
    "install_date – день установки приложения пользователем\n",
    "event_name – техническое название события (InAppPurchase - в случае покупки за деньги, ResourceSpend в случае покупки за игровую валюту)\n",
    "platform – платформа google / itunes\n",
    "network_name – пользователь установил игру по переходу с рекламы (Paid) или нет (Organic)\n",
    "country_name – страна пользователя\n",
    "InGameTime – сколько всего пользователь провел в игре секунд\n",
    "LastCompletedLevel – номер последнего пройденного уровня\n",
    "avg_energy_amount – сколько в среднем энергии было у пользователя за день\n",
    "revenue_on_event – ревеню, потраченное на покупку ивентовых продуктов\n",
    "revenue_on_other_activities – ревеню, потраченное на остальные продукты, включая золото\n",
    "gold_on_event – золото, потраченное на ивентный прогресс\n",
    "gold_on_other_activities – золото, потраченное на другие продукты"
   ]
  },
  {
   "cell_type": "code",
   "execution_count": 1,
   "metadata": {},
   "outputs": [
    {
     "name": "stderr",
     "output_type": "stream",
     "text": [
      "C:\\Users\\Aleksey\\AppData\\Local\\Temp\\ipykernel_10108\\3062214847.py:1: DeprecationWarning: \n",
      "Pyarrow will become a required dependency of pandas in the next major release of pandas (pandas 3.0),\n",
      "(to allow more performant data types, such as the Arrow string type, and better interoperability with other libraries)\n",
      "but was not found to be installed on your system.\n",
      "If this would cause problems for you,\n",
      "please provide us feedback at https://github.com/pandas-dev/pandas/issues/54466\n",
      "        \n",
      "  import pandas as pd\n"
     ]
    },
    {
     "data": {
      "text/html": [
       "<div>\n",
       "<style scoped>\n",
       "    .dataframe tbody tr th:only-of-type {\n",
       "        vertical-align: middle;\n",
       "    }\n",
       "\n",
       "    .dataframe tbody tr th {\n",
       "        vertical-align: top;\n",
       "    }\n",
       "\n",
       "    .dataframe thead th {\n",
       "        text-align: right;\n",
       "    }\n",
       "</style>\n",
       "<table border=\"1\" class=\"dataframe\">\n",
       "  <thead>\n",
       "    <tr style=\"text-align: right;\">\n",
       "      <th></th>\n",
       "      <th>AbGroup</th>\n",
       "      <th>user_id</th>\n",
       "      <th>time_stamp</th>\n",
       "      <th>install_date</th>\n",
       "      <th>event_name</th>\n",
       "      <th>platform</th>\n",
       "      <th>network_name</th>\n",
       "      <th>country_name</th>\n",
       "      <th>InGameTime</th>\n",
       "      <th>LastCompletedLevel</th>\n",
       "      <th>avg_energy_amount</th>\n",
       "      <th>revenue_on_event</th>\n",
       "      <th>revenue_on_other_activities</th>\n",
       "      <th>gold_on_event</th>\n",
       "      <th>gold_on_other_activities</th>\n",
       "    </tr>\n",
       "  </thead>\n",
       "  <tbody>\n",
       "    <tr>\n",
       "      <th>0</th>\n",
       "      <td>Control</td>\n",
       "      <td>d60ebcaecff2dc1d360a8a41271e6fd8a902c107</td>\n",
       "      <td>2020-02-10</td>\n",
       "      <td>2019-11-10</td>\n",
       "      <td>ResourceSpend</td>\n",
       "      <td>itunes</td>\n",
       "      <td>Organic</td>\n",
       "      <td>United Kingdom of Great Britain and Northern I...</td>\n",
       "      <td>276180</td>\n",
       "      <td>345</td>\n",
       "      <td>54.0</td>\n",
       "      <td>0.0</td>\n",
       "      <td>0.0</td>\n",
       "      <td>NaN</td>\n",
       "      <td>NaN</td>\n",
       "    </tr>\n",
       "    <tr>\n",
       "      <th>1</th>\n",
       "      <td>Test</td>\n",
       "      <td>f6e385b0ab43d5aea9cfcc408aa84029a4ea5fdb</td>\n",
       "      <td>2020-03-04</td>\n",
       "      <td>2019-11-05</td>\n",
       "      <td>ResourceSpend</td>\n",
       "      <td>itunes</td>\n",
       "      <td>Paid</td>\n",
       "      <td>United States of America</td>\n",
       "      <td>166095</td>\n",
       "      <td>199</td>\n",
       "      <td>50.0</td>\n",
       "      <td>0.0</td>\n",
       "      <td>0.0</td>\n",
       "      <td>NaN</td>\n",
       "      <td>NaN</td>\n",
       "    </tr>\n",
       "    <tr>\n",
       "      <th>2</th>\n",
       "      <td>Control</td>\n",
       "      <td>a4c80c8524e2c11cc238553d7b02da01ce2aad66</td>\n",
       "      <td>2020-02-26</td>\n",
       "      <td>2020-01-02</td>\n",
       "      <td>ResourceSpend</td>\n",
       "      <td>itunes</td>\n",
       "      <td>Paid</td>\n",
       "      <td>Canada</td>\n",
       "      <td>240986</td>\n",
       "      <td>84</td>\n",
       "      <td>39.0</td>\n",
       "      <td>0.0</td>\n",
       "      <td>0.0</td>\n",
       "      <td>NaN</td>\n",
       "      <td>NaN</td>\n",
       "    </tr>\n",
       "    <tr>\n",
       "      <th>3</th>\n",
       "      <td>Control</td>\n",
       "      <td>7ea2e4599ae33760c307e254839317bd5b17a63c</td>\n",
       "      <td>2020-02-21</td>\n",
       "      <td>2020-01-13</td>\n",
       "      <td>ResourceSpend</td>\n",
       "      <td>itunes</td>\n",
       "      <td>Organic</td>\n",
       "      <td>France</td>\n",
       "      <td>989822</td>\n",
       "      <td>1176</td>\n",
       "      <td>21.0</td>\n",
       "      <td>0.0</td>\n",
       "      <td>0.0</td>\n",
       "      <td>NaN</td>\n",
       "      <td>NaN</td>\n",
       "    </tr>\n",
       "    <tr>\n",
       "      <th>4</th>\n",
       "      <td>Control</td>\n",
       "      <td>6495168982929360dc6d84bf0766d8963a7ddc41</td>\n",
       "      <td>2020-02-18</td>\n",
       "      <td>2020-02-05</td>\n",
       "      <td>ResourceSpend</td>\n",
       "      <td>itunes</td>\n",
       "      <td>Paid</td>\n",
       "      <td>Spain</td>\n",
       "      <td>52106</td>\n",
       "      <td>66</td>\n",
       "      <td>43.0</td>\n",
       "      <td>0.0</td>\n",
       "      <td>0.0</td>\n",
       "      <td>500.0</td>\n",
       "      <td>NaN</td>\n",
       "    </tr>\n",
       "  </tbody>\n",
       "</table>\n",
       "</div>"
      ],
      "text/plain": [
       "   AbGroup                                   user_id  time_stamp install_date  \\\n",
       "0  Control  d60ebcaecff2dc1d360a8a41271e6fd8a902c107  2020-02-10   2019-11-10   \n",
       "1     Test  f6e385b0ab43d5aea9cfcc408aa84029a4ea5fdb  2020-03-04   2019-11-05   \n",
       "2  Control  a4c80c8524e2c11cc238553d7b02da01ce2aad66  2020-02-26   2020-01-02   \n",
       "3  Control  7ea2e4599ae33760c307e254839317bd5b17a63c  2020-02-21   2020-01-13   \n",
       "4  Control  6495168982929360dc6d84bf0766d8963a7ddc41  2020-02-18   2020-02-05   \n",
       "\n",
       "      event_name platform network_name  \\\n",
       "0  ResourceSpend   itunes      Organic   \n",
       "1  ResourceSpend   itunes         Paid   \n",
       "2  ResourceSpend   itunes         Paid   \n",
       "3  ResourceSpend   itunes      Organic   \n",
       "4  ResourceSpend   itunes         Paid   \n",
       "\n",
       "                                        country_name  InGameTime  \\\n",
       "0  United Kingdom of Great Britain and Northern I...      276180   \n",
       "1                           United States of America      166095   \n",
       "2                                             Canada      240986   \n",
       "3                                             France      989822   \n",
       "4                                              Spain       52106   \n",
       "\n",
       "   LastCompletedLevel  avg_energy_amount  revenue_on_event  \\\n",
       "0                 345               54.0               0.0   \n",
       "1                 199               50.0               0.0   \n",
       "2                  84               39.0               0.0   \n",
       "3                1176               21.0               0.0   \n",
       "4                  66               43.0               0.0   \n",
       "\n",
       "   revenue_on_other_activities  gold_on_event  gold_on_other_activities  \n",
       "0                          0.0            NaN                       NaN  \n",
       "1                          0.0            NaN                       NaN  \n",
       "2                          0.0            NaN                       NaN  \n",
       "3                          0.0            NaN                       NaN  \n",
       "4                          0.0          500.0                       NaN  "
      ]
     },
     "execution_count": 1,
     "metadata": {},
     "output_type": "execute_result"
    }
   ],
   "source": [
    "import pandas as pd \n",
    "df = pd.read_csv('test_task_product_analyst_2021_20210427.csv')\n",
    "df.head()"
   ]
  },
  {
   "cell_type": "code",
   "execution_count": 2,
   "metadata": {},
   "outputs": [
    {
     "data": {
      "text/plain": [
       "696840"
      ]
     },
     "execution_count": 2,
     "metadata": {},
     "output_type": "execute_result"
    }
   ],
   "source": [
    "len(df)"
   ]
  },
  {
   "cell_type": "code",
   "execution_count": 3,
   "metadata": {},
   "outputs": [
    {
     "data": {
      "text/plain": [
       "AbGroup\n",
       "Control    558070\n",
       "Test       138770\n",
       "Name: count, dtype: int64"
      ]
     },
     "execution_count": 3,
     "metadata": {},
     "output_type": "execute_result"
    }
   ],
   "source": [
    "df['AbGroup'].value_counts()"
   ]
  },
  {
   "cell_type": "code",
   "execution_count": 4,
   "metadata": {},
   "outputs": [
    {
     "data": {
      "text/plain": [
       "AbGroup\n",
       "Control    0.800858\n",
       "Test       0.199142\n",
       "Name: proportion, dtype: float64"
      ]
     },
     "execution_count": 4,
     "metadata": {},
     "output_type": "execute_result"
    }
   ],
   "source": [
    "df['AbGroup'].value_counts(normalize=True)\n"
   ]
  },
  {
   "cell_type": "code",
   "execution_count": 5,
   "metadata": {},
   "outputs": [
    {
     "data": {
      "text/html": [
       "<div>\n",
       "<style scoped>\n",
       "    .dataframe tbody tr th:only-of-type {\n",
       "        vertical-align: middle;\n",
       "    }\n",
       "\n",
       "    .dataframe tbody tr th {\n",
       "        vertical-align: top;\n",
       "    }\n",
       "\n",
       "    .dataframe thead th {\n",
       "        text-align: right;\n",
       "    }\n",
       "</style>\n",
       "<table border=\"1\" class=\"dataframe\">\n",
       "  <thead>\n",
       "    <tr style=\"text-align: right;\">\n",
       "      <th></th>\n",
       "      <th>count</th>\n",
       "      <th>nunique</th>\n",
       "    </tr>\n",
       "    <tr>\n",
       "      <th>AbGroup</th>\n",
       "      <th></th>\n",
       "      <th></th>\n",
       "    </tr>\n",
       "  </thead>\n",
       "  <tbody>\n",
       "    <tr>\n",
       "      <th>Control</th>\n",
       "      <td>558070</td>\n",
       "      <td>89034</td>\n",
       "    </tr>\n",
       "    <tr>\n",
       "      <th>Test</th>\n",
       "      <td>138770</td>\n",
       "      <td>22278</td>\n",
       "    </tr>\n",
       "  </tbody>\n",
       "</table>\n",
       "</div>"
      ],
      "text/plain": [
       "          count  nunique\n",
       "AbGroup                 \n",
       "Control  558070    89034\n",
       "Test     138770    22278"
      ]
     },
     "execution_count": 5,
     "metadata": {},
     "output_type": "execute_result"
    }
   ],
   "source": [
    "df.groupby('AbGroup')['user_id'].agg(['count','nunique'])"
   ]
  },
  {
   "cell_type": "code",
   "execution_count": 6,
   "metadata": {},
   "outputs": [
    {
     "data": {
      "text/plain": [
       "<Axes: xlabel='time_stamp'>"
      ]
     },
     "execution_count": 6,
     "metadata": {},
     "output_type": "execute_result"
    },
    {
     "data": {
      "image/png": "[encoded data removed]",
      "text/plain": [
       "<Figure size 640x480 with 1 Axes>"
      ]
     },
     "metadata": {},
     "output_type": "display_data"
    }
   ],
   "source": [
    "df.groupby('time_stamp')['user_id'].count().plot()"
   ]
  },
  {
   "cell_type": "code",
   "execution_count": 7,
   "metadata": {},
   "outputs": [
    {
     "data": {
      "text/html": [
       "<div>\n",
       "<style scoped>\n",
       "    .dataframe tbody tr th:only-of-type {\n",
       "        vertical-align: middle;\n",
       "    }\n",
       "\n",
       "    .dataframe tbody tr th {\n",
       "        vertical-align: top;\n",
       "    }\n",
       "\n",
       "    .dataframe thead th {\n",
       "        text-align: right;\n",
       "    }\n",
       "</style>\n",
       "<table border=\"1\" class=\"dataframe\">\n",
       "  <thead>\n",
       "    <tr style=\"text-align: right;\">\n",
       "      <th></th>\n",
       "      <th>count</th>\n",
       "      <th>nunique</th>\n",
       "    </tr>\n",
       "    <tr>\n",
       "      <th>time_stamp</th>\n",
       "      <th></th>\n",
       "      <th></th>\n",
       "    </tr>\n",
       "  </thead>\n",
       "  <tbody>\n",
       "    <tr>\n",
       "      <th>2020-02-06</th>\n",
       "      <td>4</td>\n",
       "      <td>3</td>\n",
       "    </tr>\n",
       "    <tr>\n",
       "      <th>2020-02-08</th>\n",
       "      <td>1</td>\n",
       "      <td>1</td>\n",
       "    </tr>\n",
       "    <tr>\n",
       "      <th>2020-02-09</th>\n",
       "      <td>413</td>\n",
       "      <td>410</td>\n",
       "    </tr>\n",
       "    <tr>\n",
       "      <th>2020-02-10</th>\n",
       "      <td>12472</td>\n",
       "      <td>12445</td>\n",
       "    </tr>\n",
       "    <tr>\n",
       "      <th>2020-02-11</th>\n",
       "      <td>21822</td>\n",
       "      <td>21767</td>\n",
       "    </tr>\n",
       "    <tr>\n",
       "      <th>2020-02-12</th>\n",
       "      <td>24292</td>\n",
       "      <td>24225</td>\n",
       "    </tr>\n",
       "    <tr>\n",
       "      <th>2020-02-13</th>\n",
       "      <td>25194</td>\n",
       "      <td>25131</td>\n",
       "    </tr>\n",
       "    <tr>\n",
       "      <th>2020-02-14</th>\n",
       "      <td>26464</td>\n",
       "      <td>26407</td>\n",
       "    </tr>\n",
       "    <tr>\n",
       "      <th>2020-02-15</th>\n",
       "      <td>28959</td>\n",
       "      <td>28894</td>\n",
       "    </tr>\n",
       "    <tr>\n",
       "      <th>2020-02-16</th>\n",
       "      <td>28780</td>\n",
       "      <td>28713</td>\n",
       "    </tr>\n",
       "    <tr>\n",
       "      <th>2020-02-17</th>\n",
       "      <td>30044</td>\n",
       "      <td>29963</td>\n",
       "    </tr>\n",
       "    <tr>\n",
       "      <th>2020-02-18</th>\n",
       "      <td>30417</td>\n",
       "      <td>30341</td>\n",
       "    </tr>\n",
       "    <tr>\n",
       "      <th>2020-02-19</th>\n",
       "      <td>30044</td>\n",
       "      <td>29964</td>\n",
       "    </tr>\n",
       "    <tr>\n",
       "      <th>2020-02-20</th>\n",
       "      <td>29909</td>\n",
       "      <td>29868</td>\n",
       "    </tr>\n",
       "    <tr>\n",
       "      <th>2020-02-21</th>\n",
       "      <td>31032</td>\n",
       "      <td>30995</td>\n",
       "    </tr>\n",
       "    <tr>\n",
       "      <th>2020-02-22</th>\n",
       "      <td>32651</td>\n",
       "      <td>32607</td>\n",
       "    </tr>\n",
       "    <tr>\n",
       "      <th>2020-02-23</th>\n",
       "      <td>30500</td>\n",
       "      <td>30453</td>\n",
       "    </tr>\n",
       "    <tr>\n",
       "      <th>2020-02-24</th>\n",
       "      <td>29728</td>\n",
       "      <td>29689</td>\n",
       "    </tr>\n",
       "    <tr>\n",
       "      <th>2020-02-25</th>\n",
       "      <td>29655</td>\n",
       "      <td>29615</td>\n",
       "    </tr>\n",
       "    <tr>\n",
       "      <th>2020-02-26</th>\n",
       "      <td>29694</td>\n",
       "      <td>29648</td>\n",
       "    </tr>\n",
       "    <tr>\n",
       "      <th>2020-02-27</th>\n",
       "      <td>30754</td>\n",
       "      <td>30705</td>\n",
       "    </tr>\n",
       "    <tr>\n",
       "      <th>2020-02-28</th>\n",
       "      <td>30481</td>\n",
       "      <td>30441</td>\n",
       "    </tr>\n",
       "    <tr>\n",
       "      <th>2020-02-29</th>\n",
       "      <td>31377</td>\n",
       "      <td>31339</td>\n",
       "    </tr>\n",
       "    <tr>\n",
       "      <th>2020-03-01</th>\n",
       "      <td>34058</td>\n",
       "      <td>34004</td>\n",
       "    </tr>\n",
       "    <tr>\n",
       "      <th>2020-03-02</th>\n",
       "      <td>32980</td>\n",
       "      <td>32943</td>\n",
       "    </tr>\n",
       "    <tr>\n",
       "      <th>2020-03-03</th>\n",
       "      <td>32554</td>\n",
       "      <td>32510</td>\n",
       "    </tr>\n",
       "    <tr>\n",
       "      <th>2020-03-04</th>\n",
       "      <td>32561</td>\n",
       "      <td>32514</td>\n",
       "    </tr>\n",
       "  </tbody>\n",
       "</table>\n",
       "</div>"
      ],
      "text/plain": [
       "            count  nunique\n",
       "time_stamp                \n",
       "2020-02-06      4        3\n",
       "2020-02-08      1        1\n",
       "2020-02-09    413      410\n",
       "2020-02-10  12472    12445\n",
       "2020-02-11  21822    21767\n",
       "2020-02-12  24292    24225\n",
       "2020-02-13  25194    25131\n",
       "2020-02-14  26464    26407\n",
       "2020-02-15  28959    28894\n",
       "2020-02-16  28780    28713\n",
       "2020-02-17  30044    29963\n",
       "2020-02-18  30417    30341\n",
       "2020-02-19  30044    29964\n",
       "2020-02-20  29909    29868\n",
       "2020-02-21  31032    30995\n",
       "2020-02-22  32651    32607\n",
       "2020-02-23  30500    30453\n",
       "2020-02-24  29728    29689\n",
       "2020-02-25  29655    29615\n",
       "2020-02-26  29694    29648\n",
       "2020-02-27  30754    30705\n",
       "2020-02-28  30481    30441\n",
       "2020-02-29  31377    31339\n",
       "2020-03-01  34058    34004\n",
       "2020-03-02  32980    32943\n",
       "2020-03-03  32554    32510\n",
       "2020-03-04  32561    32514"
      ]
     },
     "execution_count": 7,
     "metadata": {},
     "output_type": "execute_result"
    }
   ],
   "source": [
    "df.groupby('time_stamp')['user_id'].agg(['count','nunique'])"
   ]
  },
  {
   "cell_type": "code",
   "execution_count": 13,
   "metadata": {},
   "outputs": [
    {
     "data": {
      "text/html": [
       "<div>\n",
       "<style scoped>\n",
       "    .dataframe tbody tr th:only-of-type {\n",
       "        vertical-align: middle;\n",
       "    }\n",
       "\n",
       "    .dataframe tbody tr th {\n",
       "        vertical-align: top;\n",
       "    }\n",
       "\n",
       "    .dataframe thead tr th {\n",
       "        text-align: left;\n",
       "    }\n",
       "\n",
       "    .dataframe thead tr:last-of-type th {\n",
       "        text-align: right;\n",
       "    }\n",
       "</style>\n",
       "<table border=\"1\" class=\"dataframe\">\n",
       "  <thead>\n",
       "    <tr>\n",
       "      <th></th>\n",
       "      <th colspan=\"2\" halign=\"left\">gold_on_event_flag</th>\n",
       "      <th colspan=\"2\" halign=\"left\">gold_on_event</th>\n",
       "    </tr>\n",
       "    <tr>\n",
       "      <th></th>\n",
       "      <th>count</th>\n",
       "      <th>mean</th>\n",
       "      <th>mean</th>\n",
       "      <th>median</th>\n",
       "    </tr>\n",
       "    <tr>\n",
       "      <th>AbGroup</th>\n",
       "      <th></th>\n",
       "      <th></th>\n",
       "      <th></th>\n",
       "      <th></th>\n",
       "    </tr>\n",
       "  </thead>\n",
       "  <tbody>\n",
       "    <tr>\n",
       "      <th>Control</th>\n",
       "      <td>558070</td>\n",
       "      <td>0.06523</td>\n",
       "      <td>1965.211658</td>\n",
       "      <td>1000.0</td>\n",
       "    </tr>\n",
       "    <tr>\n",
       "      <th>Test</th>\n",
       "      <td>138770</td>\n",
       "      <td>0.06492</td>\n",
       "      <td>2104.606505</td>\n",
       "      <td>1500.0</td>\n",
       "    </tr>\n",
       "  </tbody>\n",
       "</table>\n",
       "</div>"
      ],
      "text/plain": [
       "        gold_on_event_flag          gold_on_event        \n",
       "                     count     mean          mean  median\n",
       "AbGroup                                                  \n",
       "Control             558070  0.06523   1965.211658  1000.0\n",
       "Test                138770  0.06492   2104.606505  1500.0"
      ]
     },
     "execution_count": 13,
     "metadata": {},
     "output_type": "execute_result"
    }
   ],
   "source": [
    "df['gold_on_event_flag'] = (df['gold_on_event'] > 0)*1\n",
    "df['gold_on_other_activities_flag'] = (df['gold_on_other_activities'] > 0)*1\n",
    "(df.groupby(['AbGroup'])\n",
    "[['gold_on_event_flag','gold_on_event']]\n",
    " .agg({'gold_on_event_flag':['count','mean'],\n",
    "       'gold_on_event':['mean','median']}))"
   ]
  },
  {
   "cell_type": "code",
   "execution_count": 9,
   "metadata": {},
   "outputs": [],
   "source": [
    "group1 = df[df['AbGroup']=='Test']\n",
    "group2 = df[df['AbGroup']=='Control']"
   ]
  },
  {
   "cell_type": "code",
   "execution_count": 10,
   "metadata": {},
   "outputs": [
    {
     "data": {
      "text/plain": [
       "TtestResult(statistic=-0.41842340520378485, pvalue=0.6756377060332278, df=696838.0)"
      ]
     },
     "execution_count": 10,
     "metadata": {},
     "output_type": "execute_result"
    }
   ],
   "source": [
    "from scipy.stats import ttest_ind\n",
    "ttest_ind(group1['gold_on_event_flag'], group2['gold_on_event_flag'])"
   ]
  },
  {
   "cell_type": "code",
   "execution_count": 11,
   "metadata": {},
   "outputs": [
    {
     "data": {
      "text/plain": [
       "TtestResult(statistic=-0.07895782566696165, pvalue=0.9370661911998194, df=696838.0)"
      ]
     },
     "execution_count": 11,
     "metadata": {},
     "output_type": "execute_result"
    }
   ],
   "source": [
    "ttest_ind(group1['gold_on_other_activities_flag'], group2['gold_on_other_activities_flag'])"
   ]
  }
 ],
 "metadata": {
  "kernelspec": {
   "display_name": "venv",
   "language": "python",
   "name": "python3"
  },
  "language_info": {
   "codemirror_mode": {
    "name": "ipython",
    "version": 3
   },
   "file_extension": ".py",
   "mimetype": "text/x-python",
   "name": "python",
   "nbconvert_exporter": "python",
   "pygments_lexer": "ipython3",
   "version": "3.11.3"
  }
 },
 "nbformat": 4,
 "nbformat_minor": 2
}
